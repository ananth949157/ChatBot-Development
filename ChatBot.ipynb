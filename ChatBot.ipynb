{
 "cells": [
  {
   "cell_type": "code",
   "execution_count": 1,
   "id": "57f8e97a",
   "metadata": {},
   "outputs": [
    {
     "data": {
      "text/plain": [
       "True"
      ]
     },
     "execution_count": 1,
     "metadata": {},
     "output_type": "execute_result"
    }
   ],
   "source": [
    "import os\n",
    "os.environ['PROTOCOL_BUFFERS_PYTHON_IMPLEMENTATION'] = 'python'\n",
    "\n",
    "from langchain.chat_models import ChatOpenAI\n",
    "from langchain.schema import (\n",
    "    SystemMessage,\n",
    "    HumanMessage,\n",
    "    AIMessage\n",
    ")\n",
    "\n",
    "\n",
    "from dotenv import load_dotenv,find_dotenv\n",
    "load_dotenv(find_dotenv())"
   ]
  },
  {
   "cell_type": "code",
   "execution_count": 2,
   "id": "5b54c45b",
   "metadata": {},
   "outputs": [],
   "source": [
    "OPENAI_API_KEY = os.getenv(\"OPENAI_API_KEY\")\n",
    "PINECONE_API_KEY = os.getenv(\"PINECONE_API_KEY\")\n",
    "PINECONE_INDEX_NAME = os.getenv(\"PINECONE_INDEX_NAME\")\n",
    "PINECONE_ENVIRONMENT = os.getenv(\"PINECONE_ENVIRONMENT\")"
   ]
  },
  {
   "cell_type": "code",
   "execution_count": 3,
   "id": "43bbdbf1",
   "metadata": {},
   "outputs": [],
   "source": [
    "chat = ChatOpenAI(\n",
    "    openai_api_key= OPENAI_API_KEY,\n",
    "    model='gpt-3.5-turbo'\n",
    ")"
   ]
  },
  {
   "cell_type": "markdown",
   "id": "e63d63e1",
   "metadata": {},
   "source": [
    "# Restart Here"
   ]
  },
  {
   "cell_type": "code",
   "execution_count": 4,
   "id": "daef89d0",
   "metadata": {},
   "outputs": [],
   "source": [
    "messages = [\n",
    "    SystemMessage(content=\"\"\"You are a helpful chatbot that interact with students with queries.\n",
    "                            Make sure the students their UID and email address before solving their queries and save them. You don't need to verify if they are accurate.\n",
    "                            If you are given that can't be done by you such as sending mails, state that a request has been placed for this to the relevant department\n",
    "                            You will be provided context to answer the questions asked of you. If the information is not enough, you can ask the student to eloberate their query.\n",
    "                            Sometimes the context is previous conversations that you can use as a referance of how to reply back to the students.\n",
    "                            Don't mention anything about being given context, even if it is provided in prompt.\"\"\"),\n",
    "]"
   ]
  },
  {
   "cell_type": "code",
   "execution_count": 5,
   "id": "e68b8d0c",
   "metadata": {},
   "outputs": [
    {
     "data": {
      "text/plain": [
       "AIMessage(content='Hello! How can I assist you today?')"
      ]
     },
     "execution_count": 5,
     "metadata": {},
     "output_type": "execute_result"
    }
   ],
   "source": [
    "res = chat(messages)\n",
    "res"
   ]
  },
  {
   "cell_type": "code",
   "execution_count": 6,
   "id": "a3cb8f91",
   "metadata": {},
   "outputs": [
    {
     "name": "stdout",
     "output_type": "stream",
     "text": [
      "Of course! I'll do my best to assist you. What question do you have?\n"
     ]
    }
   ],
   "source": [
    "# add latest AI response to messages\n",
    "messages.append(res)\n",
    "\n",
    "# now create a new user prompt\n",
    "prompt = HumanMessage(\n",
    "    content=\"Can you help me with any question?\"\n",
    ")\n",
    "# add to messages\n",
    "messages.append(prompt)\n",
    "\n",
    "# send to chat-gpt\n",
    "res = chat(messages)\n",
    "\n",
    "print(res.content)"
   ]
  },
  {
   "cell_type": "code",
   "execution_count": 7,
   "id": "6cafcee0",
   "metadata": {
    "scrolled": false
   },
   "outputs": [
    {
     "name": "stderr",
     "output_type": "stream",
     "text": [
      "C:\\Users\\Uday Ganti\\anaconda3\\lib\\site-packages\\pinecone\\index.py:4: TqdmExperimentalWarning: Using `tqdm.autonotebook.tqdm` in notebook mode. Use `tqdm.tqdm` instead to force console mode (e.g. in jupyter console)\n",
      "  from tqdm.autonotebook import tqdm\n"
     ]
    }
   ],
   "source": [
    "import pinecone\n",
    "\n",
    "# get API key from app.pinecone.io and environment from console\n",
    "pinecone.init(\n",
    "    api_key=os.getenv('PINECONE_API_KEY'),  \n",
    "    environment=os.getenv('PINECONE_ENV')  \n",
    ")"
   ]
  },
  {
   "cell_type": "code",
   "execution_count": 8,
   "id": "4ccd35f6",
   "metadata": {},
   "outputs": [],
   "source": [
    "index_list = pinecone.list_indexes()"
   ]
  },
  {
   "cell_type": "code",
   "execution_count": 9,
   "id": "cafc8ed2",
   "metadata": {},
   "outputs": [],
   "source": [
    "import time\n",
    "\n",
    "if PINECONE_INDEX_NAME not in pinecone.list_indexes():\n",
    "    pinecone.create_index(\n",
    "        PINECONE_INDEX_NAME,\n",
    "        dimension=1536,\n",
    "        metric='cosine'\n",
    "    )\n",
    "    # wait for index to finish initialization\n",
    "    while not pinecone.describe_index(PINECONE_INDEX_NAME).status['ready']:\n",
    "        time.sleep(1)\n",
    "        \n",
    "\n",
    "index = pinecone.Index(PINECONE_INDEX_NAME)"
   ]
  },
  {
   "cell_type": "code",
   "execution_count": 10,
   "id": "a9d31b73",
   "metadata": {},
   "outputs": [
    {
     "data": {
      "text/plain": [
       "{'dimension': 1536,\n",
       " 'index_fullness': 0.2205,\n",
       " 'namespaces': {'': {'vector_count': 22050}},\n",
       " 'total_vector_count': 22050}"
      ]
     },
     "execution_count": 10,
     "metadata": {},
     "output_type": "execute_result"
    }
   ],
   "source": [
    "index.describe_index_stats()"
   ]
  },
  {
   "cell_type": "code",
   "execution_count": 11,
   "id": "97937336",
   "metadata": {},
   "outputs": [],
   "source": [
    "from langchain.embeddings.openai import OpenAIEmbeddings\n",
    "\n",
    "embed_model = OpenAIEmbeddings(model=\"text-embedding-ada-002\")"
   ]
  },
  {
   "cell_type": "code",
   "execution_count": 12,
   "id": "a42da159",
   "metadata": {},
   "outputs": [
    {
     "name": "stderr",
     "output_type": "stream",
     "text": [
      "C:\\Users\\Uday Ganti\\anaconda3\\lib\\site-packages\\langchain\\vectorstores\\pinecone.py:59: UserWarning: Passing in `embedding` as a Callable is deprecated. Please pass in an Embeddings object instead.\n",
      "  warnings.warn(\n"
     ]
    }
   ],
   "source": [
    "from langchain.vectorstores import Pinecone\n",
    "\n",
    "text_field = \"text\"  # the metadata field that contains our text\n",
    "\n",
    "# initialize the vector store object\n",
    "vectorstore = Pinecone(\n",
    "    index, embed_model.embed_query, text_field\n",
    ")"
   ]
  },
  {
   "cell_type": "code",
   "execution_count": 13,
   "id": "0080f407",
   "metadata": {},
   "outputs": [],
   "source": [
    "def augment_prompt(query: str):\n",
    "    # get top 3 results from knowledge base\n",
    "    results = vectorstore.similarity_search(query, k=3)\n",
    "    # get the text from the results\n",
    "    source_knowledge = \"\\n\".join([x.page_content for x in results])\n",
    "    # feed into an augmented prompt\n",
    "    augmented_prompt = f\"\"\"Using the contexts below, answer the query.\n",
    "\n",
    "    Contexts:\n",
    "    {source_knowledge}\n",
    "\n",
    "    Query: {query}\"\"\"\n",
    "    return augmented_prompt"
   ]
  },
  {
   "cell_type": "code",
   "execution_count": 14,
   "id": "e8f81d35",
   "metadata": {
    "scrolled": true
   },
   "outputs": [
    {
     "data": {
      "text/plain": [
       "[Document(page_content=\"'question000001': 'Hello, I have got the permit to register for MS SCX courses : Supply chain management CRN: 81618 Logistics Systems and Analytics CRN: 81619 Lean Six Sigma CRN: 81404 I think these are hybrid classes, but I wanted to know whether they are considered as offline classes as we must take at least 2 offline classes for the fall semester. And can we take these subjects in the spring semester where I will be left with only one subject. Please clarify me on this. Regards, .', 'response000002': 'Thank you for reaching out. Typically, these courses are in person. Did you send request already? Best, ', 'question000003': 'Hello, Yes, I have registered myself for Chain management. I had a query about whether hybrid class is considered as an offline class or not. Thank you,   '\"),\n",
       " Document(page_content=\"'question000001': 'Hello, I have got the permit to register for MS SCX courses : Supply chain management CRN: 81618 Logistics Systems and Analytics CRN: 81619 Lean Six Sigma CRN: 81404 I think these are hybrid classes, but I wanted to know whether they are considered as offline classes as we must take at least 2 offline classes for the fall semester. And can we take these subjects in the spring semester where I will be left with only one subject. Please clarify me on this. Regards, .', 'response000002': 'Hi, This issue is addressed on the MS BAIS Current Students Canvas Course. read the relevant announcement. Han , PhD Graduate Coordinator MS BAIS, and Professor of Information Systems Muma College of Business University of South Florida'\"),\n",
       " Document(page_content=\"'question000001': 'Hello, I am , currently pursuing Masters in Business Analytics and Information Systems. The spring 2024, will be my final semester at the University and I have one course left. Could you tell me if I can choose an online course for that semester or is the offline class mandatory? Thanks, Sravani. ', 'response000002': 'Hi, This issue is addressed on the MS BAIS Current Students Canvas Course. read the relevant module(s). You cannot take an online course. Han , PhD Graduate Coordinator MS BAIS, and Professor of Information Systems Muma College of Business University of South Florida'\")]"
      ]
     },
     "execution_count": 14,
     "metadata": {},
     "output_type": "execute_result"
    }
   ],
   "source": [
    "from langchain.vectorstores import Pinecone\n",
    "\n",
    "query = \"Tell me about the practice center projects available for students? Also, tell me if I can do an online course in my final semster? Help me find an offline subject related to supply chains.\"\n",
    "\n",
    "vectorstore.similarity_search(query, k=3)"
   ]
  },
  {
   "cell_type": "code",
   "execution_count": 15,
   "id": "5df5f902",
   "metadata": {
    "scrolled": false
   },
   "outputs": [
    {
     "name": "stdout",
     "output_type": "stream",
     "text": [
      "Using the contexts below, answer the query.\n",
      "\n",
      "    Contexts:\n",
      "    'question000001': 'Hello, I have got the permit to register for MS SCX courses : Supply chain management CRN: 81618 Logistics Systems and Analytics CRN: 81619 Lean Six Sigma CRN: 81404 I think these are hybrid classes, but I wanted to know whether they are considered as offline classes as we must take at least 2 offline classes for the fall semester. And can we take these subjects in the spring semester where I will be left with only one subject. Please clarify me on this. Regards, .', 'response000002': 'Thank you for reaching out. Typically, these courses are in person. Did you send request already? Best, ', 'question000003': 'Hello, Yes, I have registered myself for Chain management. I had a query about whether hybrid class is considered as an offline class or not. Thank you,   '\n",
      "'question000001': 'Hello, I have got the permit to register for MS SCX courses : Supply chain management CRN: 81618 Logistics Systems and Analytics CRN: 81619 Lean Six Sigma CRN: 81404 I think these are hybrid classes, but I wanted to know whether they are considered as offline classes as we must take at least 2 offline classes for the fall semester. And can we take these subjects in the spring semester where I will be left with only one subject. Please clarify me on this. Regards, .', 'response000002': 'Hi, This issue is addressed on the MS BAIS Current Students Canvas Course. read the relevant announcement. Han , PhD Graduate Coordinator MS BAIS, and Professor of Information Systems Muma College of Business University of South Florida'\n",
      "'question000001': 'Hello, I am , currently pursuing Masters in Business Analytics and Information Systems. The spring 2024, will be my final semester at the University and I have one course left. Could you tell me if I can choose an online course for that semester or is the offline class mandatory? Thanks, Sravani. ', 'response000002': 'Hi, This issue is addressed on the MS BAIS Current Students Canvas Course. read the relevant module(s). You cannot take an online course. Han , PhD Graduate Coordinator MS BAIS, and Professor of Information Systems Muma College of Business University of South Florida'\n",
      "\n",
      "    Query: Tell me about the practice center projects available for students? Also, tell me if I can do an online course in my final semster? Help me find an offline subject related to supply chains.\n"
     ]
    }
   ],
   "source": [
    "print(augment_prompt(query))"
   ]
  },
  {
   "cell_type": "code",
   "execution_count": 16,
   "id": "2042f916",
   "metadata": {
    "scrolled": false
   },
   "outputs": [
    {
     "name": "stdout",
     "output_type": "stream",
     "text": [
      "I apologize for any confusion, but I am not able to access specific information about practice center projects or specific courses. However, I can provide you with some general information.\n",
      "\n",
      "Practice center projects are typically hands-on projects that allow students to apply their knowledge and skills in a real-world setting. These projects provide valuable practical experience and often involve collaborating with industry partners.\n",
      "\n",
      "Regarding your question about taking an online course in your final semester, I'm afraid I don't have that information. It would be best to consult the MS BAIS Current Students Canvas Course or reach out to the Graduate Coordinator for more details. They will be able to provide you with the most accurate and up-to-date information regarding course requirements.\n",
      "\n",
      "As for finding an offline subject related to supply chains, I recommend checking the course catalog or speaking with your academic advisor. They will be able to guide you in selecting an appropriate course that aligns with your interests and academic goals.\n",
      "\n",
      "If you have any other questions or need further assistance, feel free to let me know.\n"
     ]
    }
   ],
   "source": [
    "# create a new user prompt\n",
    "prompt = HumanMessage(\n",
    "    content=augment_prompt(query)\n",
    ")\n",
    "# add to messages\n",
    "messages.append(prompt)\n",
    "\n",
    "res = chat(messages)\n",
    "\n",
    "print(res.content)"
   ]
  },
  {
   "cell_type": "code",
   "execution_count": 17,
   "id": "45ab379a",
   "metadata": {},
   "outputs": [
    {
     "name": "stdout",
     "output_type": "stream",
     "text": [
      "If a course is a hybrid between offline and online, it means that it includes both in-person and online components. In this case, it would be considered as an offline class since it requires physical attendance for certain activities or sessions. \n",
      "\n",
      "As for taking an online course in your final semester, I'm sorry to inform you that according to the information provided in the MS BAIS Current Students Canvas Course, it is not allowed to take an online course in your final semester. Offline classes are mandatory for the final semester.\n",
      "\n",
      "Regarding finding an offline subject related to supply chains, I can assist you with that. Please give me a moment to check the available subjects.\n"
     ]
    }
   ],
   "source": [
    "# now create a new user prompt\n",
    "prompt = HumanMessage(\n",
    "    content=\"What if the course is a hybrid between offline and online?\"\n",
    ")\n",
    "# add to messages\n",
    "messages.append(prompt)\n",
    "\n",
    "# send to chat-gpt\n",
    "res = chat(messages)\n",
    "\n",
    "print(res.content)\n",
    "\n",
    "messages.append(res)"
   ]
  },
  {
   "cell_type": "code",
   "execution_count": null,
   "id": "83ffcadc",
   "metadata": {},
   "outputs": [],
   "source": []
  }
 ],
 "metadata": {
  "kernelspec": {
   "display_name": "Python 3 (ipykernel)",
   "language": "python",
   "name": "python3"
  },
  "language_info": {
   "codemirror_mode": {
    "name": "ipython",
    "version": 3
   },
   "file_extension": ".py",
   "mimetype": "text/x-python",
   "name": "python",
   "nbconvert_exporter": "python",
   "pygments_lexer": "ipython3",
   "version": "3.9.12"
  }
 },
 "nbformat": 4,
 "nbformat_minor": 5
}
